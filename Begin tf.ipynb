{
 "cells": [
  {
   "cell_type": "markdown",
   "metadata": {},
   "source": [
    "# Starting with Tensorflow"
   ]
  },
  {
   "cell_type": "markdown",
   "metadata": {},
   "source": [
    "Document created with [Jupyter](https://jupyter.org) and [IPython](https://ipython.org).\n",
    "\n",
    "Outline of some basics:\n",
    "\n",
    "* [Notebook Basics](../examples/Notebook/Notebook Basics.ipynb)\n",
    "* [IPython - beyond plain python](../examples/IPython Kernel/Beyond Plain Python.ipynb)\n",
    "* [How Jupyter works](../examples/Notebook/Multiple%20Languages%2C%20Frontends.ipynb) to run code in different languages."
   ]
  },
  {
   "cell_type": "markdown",
   "metadata": {},
   "source": [
    "Running tensorflow in windows:\n",
    "\n",
    "prerequisites:\n",
    "\n",
    "Python 3.5.2 |Anaconda 4.3.1 (64-bit)|\n",
    "\n",
    "*[anaconda](https://www.anaconda.com/download):\n",
    "*[python](https://www.python.org/downloads/release/python-370):\n",
    "\n",
    "1.Create a conda environment named tensorflow by invoking the following command:\n",
    "\n",
    "    C:> conda create -n tensorflow pip python=3.5\n",
    "\n",
    "2.Activate the conda environment by issuing the following command:\n",
    "\n",
    "\n",
    "    C:> activate tensorflow\n",
    "    (tensorflow)C:>\n",
    "\n",
    "your promt will change to (tensorflow)C:>\n",
    "\n",
    "3.start python enviornment\n",
    "\n",
    "    (tensorflow)C:>python\n",
    "\n",
    "Python 3.5.2 |Continuum Analytics, Inc.| (default, Jul  5 2016, 11:41:13) [MSC v.1900 64 bit (AMD64)] on win32\n",
    "Type \"help\", \"copyright\", \"credits\" or \"license\" for more information.\n",
    "\n",
    "4.try importing tensorflow\n",
    "\n",
    "    >>> import tensorflow as ts"
   ]
  },
  {
   "cell_type": "code",
   "execution_count": null,
   "metadata": {
    "collapsed": true
   },
   "outputs": [],
   "source": []
  }
 ],
 "metadata": {
  "kernelspec": {
   "display_name": "Python 3",
   "language": "python",
   "name": "python3"
  },
  "language_info": {
   "codemirror_mode": {
    "name": "ipython",
    "version": 3
   },
   "file_extension": ".py",
   "mimetype": "text/x-python",
   "name": "python",
   "nbconvert_exporter": "python",
   "pygments_lexer": "ipython3",
   "version": "3.6.0"
  }
 },
 "nbformat": 4,
 "nbformat_minor": 2
}
